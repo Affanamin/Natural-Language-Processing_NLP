{
 "cells": [
  {
   "cell_type": "code",
   "execution_count": 1,
   "metadata": {},
   "outputs": [],
   "source": [
    "import numpy as np\n",
    "import pandas as pd"
   ]
  },
  {
   "cell_type": "code",
   "execution_count": 2,
   "metadata": {},
   "outputs": [
    {
     "data": {
      "text/html": [
       "<div>\n",
       "<style scoped>\n",
       "    .dataframe tbody tr th:only-of-type {\n",
       "        vertical-align: middle;\n",
       "    }\n",
       "\n",
       "    .dataframe tbody tr th {\n",
       "        vertical-align: top;\n",
       "    }\n",
       "\n",
       "    .dataframe thead th {\n",
       "        text-align: right;\n",
       "    }\n",
       "</style>\n",
       "<table border=\"1\" class=\"dataframe\">\n",
       "  <thead>\n",
       "    <tr style=\"text-align: right;\">\n",
       "      <th></th>\n",
       "      <th>Title</th>\n",
       "      <th>Year</th>\n",
       "      <th>Rated</th>\n",
       "      <th>Released</th>\n",
       "      <th>Runtime</th>\n",
       "      <th>Genre</th>\n",
       "      <th>Director</th>\n",
       "      <th>Writer</th>\n",
       "      <th>Actors</th>\n",
       "      <th>Plot</th>\n",
       "      <th>...</th>\n",
       "      <th>imdbRating</th>\n",
       "      <th>imdbVotes</th>\n",
       "      <th>imdbID</th>\n",
       "      <th>Type</th>\n",
       "      <th>DVD</th>\n",
       "      <th>BoxOffice</th>\n",
       "      <th>Production</th>\n",
       "      <th>Website</th>\n",
       "      <th>Response</th>\n",
       "      <th>tomatoURL</th>\n",
       "    </tr>\n",
       "  </thead>\n",
       "  <tbody>\n",
       "    <tr>\n",
       "      <th>0</th>\n",
       "      <td>Code Name: K.O.Z.</td>\n",
       "      <td>2015</td>\n",
       "      <td>NOT RATED</td>\n",
       "      <td>13 Feb 2015</td>\n",
       "      <td>114 min</td>\n",
       "      <td>Crime, Mystery</td>\n",
       "      <td>Celal Çimen</td>\n",
       "      <td>NaN</td>\n",
       "      <td>Cem Kurtoglu, Hakan Ural, Hazim Körmükçü, Tolg...</td>\n",
       "      <td>A look at the 17-25 December 2013 corruption s...</td>\n",
       "      <td>...</td>\n",
       "      <td>1.6</td>\n",
       "      <td>24,600</td>\n",
       "      <td>tt4458206</td>\n",
       "      <td>movie</td>\n",
       "      <td>NaN</td>\n",
       "      <td>NaN</td>\n",
       "      <td>NaN</td>\n",
       "      <td>NaN</td>\n",
       "      <td>True</td>\n",
       "      <td>NaN</td>\n",
       "    </tr>\n",
       "    <tr>\n",
       "      <th>1</th>\n",
       "      <td>Saving Christmas</td>\n",
       "      <td>2014</td>\n",
       "      <td>PG</td>\n",
       "      <td>14 Nov 2014</td>\n",
       "      <td>80 min</td>\n",
       "      <td>Comedy, Family</td>\n",
       "      <td>Darren Doane</td>\n",
       "      <td>Darren Doane, Cheston Hervey</td>\n",
       "      <td>Kirk Cameron, Darren Doane, Bridgette Cameron,...</td>\n",
       "      <td>Kirk is enjoying the annual Christmas party ex...</td>\n",
       "      <td>...</td>\n",
       "      <td>1.6</td>\n",
       "      <td>12,686</td>\n",
       "      <td>tt4009460</td>\n",
       "      <td>movie</td>\n",
       "      <td>03 Nov 2015</td>\n",
       "      <td>$2,778,297</td>\n",
       "      <td>IPD/Samuel Goldwyn Films</td>\n",
       "      <td>http://www.savingchristmas.com/</td>\n",
       "      <td>True</td>\n",
       "      <td>http://www.rottentomatoes.com/m/kirk_camerons_...</td>\n",
       "    </tr>\n",
       "  </tbody>\n",
       "</table>\n",
       "<p>2 rows × 27 columns</p>\n",
       "</div>"
      ],
      "text/plain": [
       "               Title  Year      Rated     Released  Runtime           Genre  \\\n",
       "0  Code Name: K.O.Z.  2015  NOT RATED  13 Feb 2015  114 min  Crime, Mystery   \n",
       "1   Saving Christmas  2014         PG  14 Nov 2014   80 min  Comedy, Family   \n",
       "\n",
       "       Director                        Writer  \\\n",
       "0   Celal Çimen                           NaN   \n",
       "1  Darren Doane  Darren Doane, Cheston Hervey   \n",
       "\n",
       "                                              Actors  \\\n",
       "0  Cem Kurtoglu, Hakan Ural, Hazim Körmükçü, Tolg...   \n",
       "1  Kirk Cameron, Darren Doane, Bridgette Cameron,...   \n",
       "\n",
       "                                                Plot  ... imdbRating  \\\n",
       "0  A look at the 17-25 December 2013 corruption s...  ...        1.6   \n",
       "1  Kirk is enjoying the annual Christmas party ex...  ...        1.6   \n",
       "\n",
       "  imdbVotes     imdbID   Type          DVD   BoxOffice  \\\n",
       "0    24,600  tt4458206  movie          NaN         NaN   \n",
       "1    12,686  tt4009460  movie  03 Nov 2015  $2,778,297   \n",
       "\n",
       "                 Production                          Website Response  \\\n",
       "0                       NaN                              NaN     True   \n",
       "1  IPD/Samuel Goldwyn Films  http://www.savingchristmas.com/     True   \n",
       "\n",
       "                                           tomatoURL  \n",
       "0                                                NaN  \n",
       "1  http://www.rottentomatoes.com/m/kirk_camerons_...  \n",
       "\n",
       "[2 rows x 27 columns]"
      ]
     },
     "execution_count": 2,
     "metadata": {},
     "output_type": "execute_result"
    }
   ],
   "source": [
    "Movie_data = pd.read_csv('IMDBdata_MainData.csv', low_memory=False)\n",
    "Movie_data.head(2)"
   ]
  },
  {
   "cell_type": "code",
   "execution_count": 3,
   "metadata": {},
   "outputs": [
    {
     "data": {
      "text/html": [
       "<div>\n",
       "<style scoped>\n",
       "    .dataframe tbody tr th:only-of-type {\n",
       "        vertical-align: middle;\n",
       "    }\n",
       "\n",
       "    .dataframe tbody tr th {\n",
       "        vertical-align: top;\n",
       "    }\n",
       "\n",
       "    .dataframe thead th {\n",
       "        text-align: right;\n",
       "    }\n",
       "</style>\n",
       "<table border=\"1\" class=\"dataframe\">\n",
       "  <thead>\n",
       "    <tr style=\"text-align: right;\">\n",
       "      <th></th>\n",
       "      <th>Year</th>\n",
       "      <th>Metascore</th>\n",
       "      <th>imdbRating</th>\n",
       "    </tr>\n",
       "  </thead>\n",
       "  <tbody>\n",
       "    <tr>\n",
       "      <th>count</th>\n",
       "      <td>5273.000000</td>\n",
       "      <td>3876.000000</td>\n",
       "      <td>5273.000000</td>\n",
       "    </tr>\n",
       "    <tr>\n",
       "      <th>mean</th>\n",
       "      <td>2001.766547</td>\n",
       "      <td>54.908927</td>\n",
       "      <td>6.439522</td>\n",
       "    </tr>\n",
       "    <tr>\n",
       "      <th>std</th>\n",
       "      <td>13.929189</td>\n",
       "      <td>18.502623</td>\n",
       "      <td>1.253977</td>\n",
       "    </tr>\n",
       "    <tr>\n",
       "      <th>min</th>\n",
       "      <td>1916.000000</td>\n",
       "      <td>1.000000</td>\n",
       "      <td>1.200000</td>\n",
       "    </tr>\n",
       "    <tr>\n",
       "      <th>25%</th>\n",
       "      <td>1998.000000</td>\n",
       "      <td>41.000000</td>\n",
       "      <td>5.800000</td>\n",
       "    </tr>\n",
       "    <tr>\n",
       "      <th>50%</th>\n",
       "      <td>2005.000000</td>\n",
       "      <td>55.000000</td>\n",
       "      <td>6.600000</td>\n",
       "    </tr>\n",
       "    <tr>\n",
       "      <th>75%</th>\n",
       "      <td>2011.000000</td>\n",
       "      <td>69.000000</td>\n",
       "      <td>7.300000</td>\n",
       "    </tr>\n",
       "    <tr>\n",
       "      <th>max</th>\n",
       "      <td>2017.000000</td>\n",
       "      <td>100.000000</td>\n",
       "      <td>9.300000</td>\n",
       "    </tr>\n",
       "  </tbody>\n",
       "</table>\n",
       "</div>"
      ],
      "text/plain": [
       "              Year    Metascore   imdbRating\n",
       "count  5273.000000  3876.000000  5273.000000\n",
       "mean   2001.766547    54.908927     6.439522\n",
       "std      13.929189    18.502623     1.253977\n",
       "min    1916.000000     1.000000     1.200000\n",
       "25%    1998.000000    41.000000     5.800000\n",
       "50%    2005.000000    55.000000     6.600000\n",
       "75%    2011.000000    69.000000     7.300000\n",
       "max    2017.000000   100.000000     9.300000"
      ]
     },
     "execution_count": 3,
     "metadata": {},
     "output_type": "execute_result"
    }
   ],
   "source": [
    "Movie_data.describe()"
   ]
  },
  {
   "cell_type": "code",
   "execution_count": 4,
   "metadata": {},
   "outputs": [
    {
     "name": "stdout",
     "output_type": "stream",
     "text": [
      "<class 'pandas.core.frame.DataFrame'>\n",
      "RangeIndex: 5273 entries, 0 to 5272\n",
      "Data columns (total 27 columns):\n",
      "Title             5273 non-null object\n",
      "Year              5273 non-null int64\n",
      "Rated             4815 non-null object\n",
      "Released          5235 non-null object\n",
      "Runtime           5257 non-null object\n",
      "Genre             5271 non-null object\n",
      "Director          5272 non-null object\n",
      "Writer            5221 non-null object\n",
      "Actors            5266 non-null object\n",
      "Plot              5262 non-null object\n",
      "Language          5263 non-null object\n",
      "Country           5271 non-null object\n",
      "Awards            4462 non-null object\n",
      "Poster            5260 non-null object\n",
      "Ratings.Source    5273 non-null object\n",
      "Ratings.Value     5273 non-null object\n",
      "Metascore         3876 non-null float64\n",
      "imdbRating        5273 non-null float64\n",
      "imdbVotes         5273 non-null object\n",
      "imdbID            5273 non-null object\n",
      "Type              5273 non-null object\n",
      "DVD               4882 non-null object\n",
      "BoxOffice         2634 non-null object\n",
      "Production        4945 non-null object\n",
      "Website           3472 non-null object\n",
      "Response          5273 non-null bool\n",
      "tomatoURL         5187 non-null object\n",
      "dtypes: bool(1), float64(2), int64(1), object(23)\n",
      "memory usage: 1.1+ MB\n"
     ]
    }
   ],
   "source": [
    "Movie_data.info()"
   ]
  },
  {
   "cell_type": "code",
   "execution_count": 5,
   "metadata": {},
   "outputs": [
    {
     "data": {
      "text/plain": [
       "0    A look at the 17-25 December 2013 corruption s...\n",
       "1    Kirk is enjoying the annual Christmas party ex...\n",
       "2    A group of smart-talking toddlers find themsel...\n",
       "3    Evil assassins want to kill Daniel Kublbock, t...\n",
       "4    A family gets lost on the road and stumbles up...\n",
       "Name: Plot, dtype: object"
      ]
     },
     "execution_count": 5,
     "metadata": {},
     "output_type": "execute_result"
    }
   ],
   "source": [
    "#Print plot overviews of the first 5 movies.\n",
    "Movie_data['Plot'].head()"
   ]
  },
  {
   "cell_type": "code",
   "execution_count": 6,
   "metadata": {},
   "outputs": [],
   "source": [
    "#Import TfIdfVectorizer from scikit-learn\n",
    "from sklearn.feature_extraction.text import TfidfVectorizer\n",
    "#Define a TF-IDF Vectorizer Object. Remove all english stop words such as 'the', 'a'\n",
    "tfidf = TfidfVectorizer(stop_words='english')"
   ]
  },
  {
   "cell_type": "code",
   "execution_count": 7,
   "metadata": {},
   "outputs": [],
   "source": [
    "#Replace NaN with an empty string\n",
    "Movie_data['Plot'] = Movie_data['Plot'].fillna('')"
   ]
  },
  {
   "cell_type": "code",
   "execution_count": 8,
   "metadata": {},
   "outputs": [],
   "source": [
    "#Construct the required TF-IDF matrix by fitting and transforming the data\n",
    "tfidf_matrix = tfidf.fit_transform(Movie_data['Plot'])"
   ]
  },
  {
   "cell_type": "code",
   "execution_count": 9,
   "metadata": {},
   "outputs": [
    {
     "data": {
      "text/plain": [
       "(5273, 14266)"
      ]
     },
     "execution_count": 9,
     "metadata": {},
     "output_type": "execute_result"
    }
   ],
   "source": [
    "#Output the shape of tfidf_matrix\n",
    "tfidf_matrix.shape"
   ]
  },
  {
   "cell_type": "markdown",
   "metadata": {},
   "source": [
    "You see that over 14,000 different words were used to describe the 5,273 movies in your dataset.\n",
    "\n",
    "With this matrix in hand, you can now compute a similarity score. There are several candidates for this; such as:\n",
    "\n",
    "1) the euclidean, \n",
    "2) the Pearson \n",
    "3) and the cosine similarity scores. \n",
    "\n",
    "Again, there is no right answer to which score is the best. Different scores work well in different scenarios and it is often a good idea to experiment with different metrics."
   ]
  },
  {
   "cell_type": "code",
   "execution_count": 10,
   "metadata": {},
   "outputs": [
    {
     "name": "stdout",
     "output_type": "stream",
     "text": [
      "  (0, 5536)\t0.21467240224923734\n",
      "  (0, 4464)\t0.35515930543460705\n",
      "  (0, 13667)\t0.35515930543460705\n",
      "  (0, 13214)\t0.31850113040005346\n",
      "  (0, 11175)\t0.28695720343661324\n",
      "  (0, 2975)\t0.24550612457873058\n",
      "  (0, 178)\t0.35515930543460705\n",
      "  (0, 3382)\t0.3274284665362348\n",
      "  (0, 203)\t0.29498546479806004\n",
      "  (0, 32)\t0.29498546479806004\n",
      "  (0, 7596)\t0.22405010498479594\n",
      "  (1, 6241)\t0.3076284406470934\n",
      "  (1, 1187)\t0.3076284406470934\n",
      "  (1, 2129)\t0.19678482256447066\n",
      "  (1, 1176)\t0.22783696047046093\n",
      "  (1, 7356)\t0.1960847381570171\n",
      "  (1, 1838)\t0.17172030041490927\n",
      "  (1, 2384)\t0.24553860057768512\n",
      "  (1, 5970)\t0.15018964863063172\n",
      "  (1, 8681)\t0.23556955385231046\n",
      "  (1, 10336)\t0.23346872886017436\n",
      "  (1, 11661)\t0.18297078052272026\n",
      "  (1, 12841)\t0.23780600719583558\n",
      "  (1, 4706)\t0.3076284406470934\n",
      "  (1, 9288)\t0.192781954539757\n",
      "  :\t:\n",
      "  (5270, 7387)\t0.17076110475910183\n",
      "  (5270, 2081)\t0.17291246872970095\n",
      "  (5270, 14200)\t0.1434618800952129\n",
      "  (5270, 1931)\t0.17076110475910183\n",
      "  (5270, 11870)\t0.1599000627903116\n",
      "  (5270, 4951)\t0.13010491363905566\n",
      "  (5270, 8732)\t0.11023177999312894\n",
      "  (5270, 5970)\t0.13514775593584893\n",
      "  (5271, 5381)\t0.6086360263418551\n",
      "  (5271, 12447)\t0.6086360263418551\n",
      "  (5271, 14249)\t0.5090426061515808\n",
      "  (5272, 6002)\t0.30943890413617586\n",
      "  (5272, 1279)\t0.30943890413617586\n",
      "  (5272, 11164)\t0.27114464112870484\n",
      "  (5272, 5545)\t0.2852779142136716\n",
      "  (5272, 4027)\t0.29530563105120905\n",
      "  (5272, 3149)\t0.25333882283482273\n",
      "  (5272, 10838)\t0.26577142007795357\n",
      "  (5272, 7544)\t0.24698365120620056\n",
      "  (5272, 4704)\t0.27114464112870484\n",
      "  (5272, 13856)\t0.2852779142136716\n",
      "  (5272, 11888)\t0.2228226612836963\n",
      "  (5272, 11280)\t0.22430615922456296\n",
      "  (5272, 1790)\t0.2570113680437381\n",
      "  (5272, 3938)\t0.2228226612836963\n"
     ]
    }
   ],
   "source": [
    "print(tfidf_matrix)"
   ]
  },
  {
   "cell_type": "markdown",
   "metadata": {},
   "source": [
    "You will be using the cosine similarity to calculate a numeric quantity that denotes the similarity between two movies. You use the cosine similarity score since it is independent of magnitude and is relatively easy and fast to calculate (especially when used in conjunction with TF-IDF scores, which will be explained later). Mathematically, it is defined as follows:\n",
    "\n",
    "cosine(x,y)= x.y⊺ / ||x||.||y||\n",
    "\n",
    "Since you have used the TF-IDF vectorizer, calculating the dot product will directly give you the cosine similarity score. Therefore, you will use sklearn's linear_kernel() instead of cosine_similarities() since it is faster.\n"
   ]
  },
  {
   "cell_type": "code",
   "execution_count": 11,
   "metadata": {},
   "outputs": [],
   "source": [
    "# Import linear_kernel\n",
    "from sklearn.metrics.pairwise import linear_kernel\n",
    "# Compute the cosine similarity matrix\n",
    "cosine_sim = linear_kernel(tfidf_matrix, tfidf_matrix)"
   ]
  },
  {
   "cell_type": "markdown",
   "metadata": {},
   "source": []
  },
  {
   "cell_type": "code",
   "execution_count": 12,
   "metadata": {},
   "outputs": [],
   "source": [
    "#Construct a reverse map of indices and movie titles\n",
    "indices = pd.Series(Movie_data.index, index=Movie_data['Title']).drop_duplicates()"
   ]
  },
  {
   "cell_type": "markdown",
   "metadata": {},
   "source": [
    "You are now in a good position to define your recommendation function. These are the following steps you'll follow:\n",
    "\n",
    "1) Get the index of the movie given its title.\n",
    "\n",
    "2) Get the list of cosine similarity scores for that particular movie with all movies. Convert it into a list of tuples where the first element is its position and the second is the similarity score.\n",
    "\n",
    "3) Sort the aforementioned list of tuples based on the similarity scores; that is, the second element.\n",
    "\n",
    "4) Get the top 10 elements of this list. Ignore the first element as it refers to self (the movie most similar to a particular movie is the movie itself).\n",
    "\n",
    "5) Return the titles corresponding to the indices of the top elements."
   ]
  },
  {
   "cell_type": "code",
   "execution_count": 13,
   "metadata": {},
   "outputs": [],
   "source": [
    "# Function that takes in movie title as input and outputs most similar movies\n",
    "def get_recommendations(title, cosine_sim=cosine_sim):\n",
    "    # Get the index of the movie that matches the title\n",
    "    idx = indices[title]\n",
    "\n",
    "    # Get the pairwsie similarity scores of all movies with that movie\n",
    "    sim_scores = list(enumerate(cosine_sim[idx]))\n",
    "\n",
    "    # Sort the movies based on the similarity scores\n",
    "    sim_scores = sorted(sim_scores, key=lambda x: x[1], reverse=True)\n",
    "\n",
    "    # Get the scores of the 10 most similar movies\n",
    "    sim_scores = sim_scores[1:11]\n",
    "\n",
    "    # Get the movie indices\n",
    "    movie_indices = [i[0] for i in sim_scores]\n",
    "\n",
    "    # Return the top 10 most similar movies\n",
    "    return Movie_data['Title'].iloc[movie_indices]"
   ]
  },
  {
   "cell_type": "code",
   "execution_count": 16,
   "metadata": {},
   "outputs": [
    {
     "data": {
      "text/plain": [
       "2394                    Blood Ties\n",
       "4891                 American Hero\n",
       "4128                          Made\n",
       "923                 Little Fockers\n",
       "1710    Curse of the Golden Flower\n",
       "1802                         Spawn\n",
       "2390                     Self/less\n",
       "2641            Death at a Funeral\n",
       "5020                  Diamond Ruff\n",
       "4260                The Jerky Boys\n",
       "Name: Title, dtype: object"
      ]
     },
     "execution_count": 16,
     "metadata": {},
     "output_type": "execute_result"
    }
   ],
   "source": [
    "get_recommendations('The Godfather')"
   ]
  },
  {
   "cell_type": "code",
   "execution_count": 15,
   "metadata": {},
   "outputs": [
    {
     "data": {
      "text/plain": [
       "1960                             Batman\n",
       "103                     The Dark Knight\n",
       "4674                                Yes\n",
       "1218                          The Siege\n",
       "2239                            Godsend\n",
       "2458                          Elizabeth\n",
       "3749    The Wind That Shakes the Barley\n",
       "1064                     Batman Returns\n",
       "2122              George and the Dragon\n",
       "3249                            Flipped\n",
       "Name: Title, dtype: object"
      ]
     },
     "execution_count": 15,
     "metadata": {},
     "output_type": "execute_result"
    }
   ],
   "source": [
    "get_recommendations('The Dark Knight Rises')"
   ]
  },
  {
   "cell_type": "markdown",
   "metadata": {},
   "source": [
    "Above we have successfully built a recommender system which reccomends a movie based on resembles to plot.\n",
    "\n",
    "Now our aim is to create a recommender system of simmilar movie director. "
   ]
  },
  {
   "cell_type": "code",
   "execution_count": null,
   "metadata": {},
   "outputs": [],
   "source": []
  },
  {
   "cell_type": "code",
   "execution_count": null,
   "metadata": {},
   "outputs": [],
   "source": []
  },
  {
   "cell_type": "code",
   "execution_count": null,
   "metadata": {},
   "outputs": [],
   "source": []
  },
  {
   "cell_type": "code",
   "execution_count": null,
   "metadata": {},
   "outputs": [],
   "source": []
  },
  {
   "cell_type": "code",
   "execution_count": null,
   "metadata": {},
   "outputs": [],
   "source": []
  },
  {
   "cell_type": "code",
   "execution_count": null,
   "metadata": {},
   "outputs": [],
   "source": []
  },
  {
   "cell_type": "code",
   "execution_count": null,
   "metadata": {},
   "outputs": [],
   "source": [
    "\n",
    "\n"
   ]
  },
  {
   "cell_type": "code",
   "execution_count": null,
   "metadata": {},
   "outputs": [],
   "source": []
  },
  {
   "cell_type": "code",
   "execution_count": null,
   "metadata": {},
   "outputs": [],
   "source": [
    "\n",
    "\n"
   ]
  },
  {
   "cell_type": "code",
   "execution_count": null,
   "metadata": {},
   "outputs": [],
   "source": []
  },
  {
   "cell_type": "code",
   "execution_count": null,
   "metadata": {},
   "outputs": [],
   "source": [
    "\n"
   ]
  },
  {
   "cell_type": "code",
   "execution_count": null,
   "metadata": {},
   "outputs": [],
   "source": []
  },
  {
   "cell_type": "code",
   "execution_count": null,
   "metadata": {},
   "outputs": [],
   "source": []
  },
  {
   "cell_type": "code",
   "execution_count": null,
   "metadata": {},
   "outputs": [],
   "source": []
  },
  {
   "cell_type": "code",
   "execution_count": null,
   "metadata": {},
   "outputs": [],
   "source": []
  }
 ],
 "metadata": {
  "kernelspec": {
   "display_name": "Python 3",
   "language": "python",
   "name": "python3"
  },
  "language_info": {
   "codemirror_mode": {
    "name": "ipython",
    "version": 3
   },
   "file_extension": ".py",
   "mimetype": "text/x-python",
   "name": "python",
   "nbconvert_exporter": "python",
   "pygments_lexer": "ipython3",
   "version": "3.7.4"
  }
 },
 "nbformat": 4,
 "nbformat_minor": 2
}
